{
 "cells": [
  {
   "cell_type": "markdown",
   "metadata": {},
   "source": [
    "# Metody probabilistyczne"
   ]
  },
  {
   "cell_type": "code",
   "metadata": {
    "ExecuteTime": {
     "end_time": "2025-05-08T20:16:19.666105Z",
     "start_time": "2025-05-08T20:16:17.416041Z"
    }
   },
   "source": [
    "import matplotlib.pyplot as plt\n",
    "import numpy as np\n",
    "import pandas as pd"
   ],
   "outputs": [],
   "execution_count": 1
  },
  {
   "cell_type": "markdown",
   "metadata": {},
   "source": [
    "## Ryzyko kredytowe"
   ]
  },
  {
   "cell_type": "markdown",
   "metadata": {},
   "source": [
    "Każda instytucja udzielająca kredytu musi szacować zdolność kredytową i prawdopodobieństwo, czy dana osoba spłaci kredyt. W praktyce większość osób płaci prawidłowo, więc zamiast tego przewiduje się prawdopodobieństwo, że ktoś będzie miał opóźnienia w płatności w określonym czasie, tzw. **probability of default**. Jak sama nazwa wskazuje, nie jest to klasyfikacja binarna, tylko faktyczne prawdopodobieństwo, wykorzystywane przy ocenie ryzyka.\n",
    "\n",
    "Wykorzystamy zbiór z konkursu [Give Me Some Credit](https://www.kaggle.com/c/GiveMeSomeCredit/overview). Jego zmienne to ([źródło](https://www.listendata.com/2019/08/datasets-for-credit-risk-modeling.html)):\n",
    "- `SeriousDlqin2yrs` - brak spłaty raty kredytu przez 90 dni lub dłużej w ciągu ostatnich 2 lat; są to nasze klasy `y`\n",
    "- `RevolvingUtilizationOfUnsecuredLines` - aktualne zapożyczenie na kartach kredytowych i pożyczkach w stosunku do maksymalnego możliwego zapożyczenia\n",
    "- `age` - wiek w latach\n",
    "- `DebtRatio` - aktualne całkowite zapożyczenie względem miesięcznego dochodu\n",
    "- `MonthlyIncome` - miesięczne dochody\n",
    "- `NumberOfOpenCreditLinesAndLoans` - liczba aktualnych pożyczek i kart kredytowych\n",
    "- `NumberOfTimes90DaysLate` - ile razy w przeszłości wystąpiło opóźnienie 90 dni lub dłużej w spłacie raty kredytu\n",
    "- `NumberRealEstateLoansOrLines` - liczba pożyczek z nieruchomością jako zabezpieczeniem\n",
    "- `NumberOfDependents` - liczba pozostałych osób w gospodarstwie domowym\n",
    "- `NumberOfTime30-59DaysPastDueNotWorse` - ile razy w ciągu ostatnich 2 lat nastąpiło opóźnienie w spłacie raty między 30 a 59 dni\n",
    "- `NumberOfTime60-89DaysPastDueNotWorse` - jak wyżej, ale 60-89 dni\n",
    "\n",
    "Ze względu na potrzebę precyzyjnych prawdopodobieństw oraz rozmiar danych (banki mają ogromną liczbę klientów), regresja logistyczna to idealny wybór dla tego zadania. Metryką w takich przypadkach jest AUROC (Area Under Receiver Operating Characteristic curve), bo bierze ona pod uwagę prawdopodobieństwo klasy pozytywnej.\n",
    "\n",
    "Na początek wczytamy i przeanalizujemy wstępnie nasze dane. Jako zbiór testowy wykorzystamy 20% danych. Jako że mamy do czynienia z klasyfikacją niezbalansowaną, to wykorzystamy **podział ze stratyfikacją (stratified split)**, w którym proporcje klasy pozytywnej i negatywnej zostają zachowane w zbiorze treningowym i testowym."
   ]
  },
  {
   "cell_type": "code",
   "metadata": {
    "ExecuteTime": {
     "end_time": "2025-04-29T11:48:31.297755Z",
     "start_time": "2025-04-29T11:48:31.133156Z"
    }
   },
   "source": [
    "from sklearn.model_selection import train_test_split\n",
    "\n",
    "\n",
    "df = pd.read_parquet(\"give_me_some_credit_data.parquet\")\n",
    "y = df.pop(\"SeriousDlqin2yrs\")\n",
    "X = df\n",
    "\n",
    "y.value_counts(normalize=True).plot.bar(\n",
    "    title=\"Class distribution\",\n",
    "    rot=0,\n",
    "    xlabel=\"Class (defaulted or not)\",\n",
    "    ylabel=\"Class percentage\",\n",
    ")\n",
    "\n",
    "X_train, X_test, y_train, y_test = train_test_split(\n",
    "    X, y, test_size=0.2, stratify=y, random_state=0\n",
    ")"
   ],
   "outputs": [
    {
     "data": {
      "text/plain": [
       "<Figure size 640x480 with 1 Axes>"
      ],
      "image/png": "[encoded data removed]"
     },
     "metadata": {},
     "output_type": "display_data"
    }
   ],
   "execution_count": 11
  },
  {
   "cell_type": "markdown",
   "metadata": {},
   "source": [
    "Jako że naszych zmiennych nie jest zbyt wiele, możemy łatwo zweryfikować statystyki naszych danych z pomocą metod `.info()` oraz `.describe()`:"
   ]
  },
  {
   "cell_type": "code",
   "metadata": {
    "ExecuteTime": {
     "end_time": "2025-04-29T11:21:03.886329Z",
     "start_time": "2025-04-29T11:21:03.866937Z"
    }
   },
   "source": [
    "df.info()"
   ],
   "outputs": [
    {
     "name": "stdout",
     "output_type": "stream",
     "text": [
      "<class 'pandas.core.frame.DataFrame'>\n",
      "RangeIndex: 150000 entries, 0 to 149999\n",
      "Data columns (total 10 columns):\n",
      " #   Column                                Non-Null Count   Dtype  \n",
      "---  ------                                --------------   -----  \n",
      " 0   RevolvingUtilizationOfUnsecuredLines  150000 non-null  float64\n",
      " 1   age                                   150000 non-null  int64  \n",
      " 2   NumberOfTime30-59DaysPastDueNotWorse  150000 non-null  int64  \n",
      " 3   DebtRatio                             150000 non-null  float64\n",
      " 4   MonthlyIncome                         120269 non-null  float64\n",
      " 5   NumberOfOpenCreditLinesAndLoans       150000 non-null  int64  \n",
      " 6   NumberOfTimes90DaysLate               150000 non-null  int64  \n",
      " 7   NumberRealEstateLoansOrLines          150000 non-null  int64  \n",
      " 8   NumberOfTime60-89DaysPastDueNotWorse  150000 non-null  int64  \n",
      " 9   NumberOfDependents                    146076 non-null  float64\n",
      "dtypes: float64(4), int64(6)\n",
      "memory usage: 11.4 MB\n"
     ]
    }
   ],
   "execution_count": 3
  },
  {
   "cell_type": "markdown",
   "metadata": {},
   "source": [
    "Mamy wartości brakujące w `MonthlyIncome` oraz `NumberOfDependents`. Tutaj z ekonomii wiadomo, że imputacja medianą będzie bardzo dobrym wyborem."
   ]
  },
  {
   "cell_type": "code",
   "metadata": {
    "ExecuteTime": {
     "end_time": "2025-04-29T11:21:09.100562Z",
     "start_time": "2025-04-29T11:21:08.989516Z"
    }
   },
   "source": [
    "df.describe()"
   ],
   "outputs": [
    {
     "data": {
      "text/plain": [
       "       RevolvingUtilizationOfUnsecuredLines            age  \\\n",
       "count                         150000.000000  150000.000000   \n",
       "mean                               6.048438      52.295207   \n",
       "std                              249.755371      14.771866   \n",
       "min                                0.000000       0.000000   \n",
       "25%                                0.029867      41.000000   \n",
       "50%                                0.154181      52.000000   \n",
       "75%                                0.559046      63.000000   \n",
       "max                            50708.000000     109.000000   \n",
       "\n",
       "       NumberOfTime30-59DaysPastDueNotWorse      DebtRatio  MonthlyIncome  \\\n",
       "count                         150000.000000  150000.000000   1.202690e+05   \n",
       "mean                               0.421033     353.005076   6.670221e+03   \n",
       "std                                4.192781    2037.818523   1.438467e+04   \n",
       "min                                0.000000       0.000000   0.000000e+00   \n",
       "25%                                0.000000       0.175074   3.400000e+03   \n",
       "50%                                0.000000       0.366508   5.400000e+03   \n",
       "75%                                0.000000       0.868254   8.249000e+03   \n",
       "max                               98.000000  329664.000000   3.008750e+06   \n",
       "\n",
       "       NumberOfOpenCreditLinesAndLoans  NumberOfTimes90DaysLate  \\\n",
       "count                    150000.000000            150000.000000   \n",
       "mean                          8.452760                 0.265973   \n",
       "std                           5.145951                 4.169304   \n",
       "min                           0.000000                 0.000000   \n",
       "25%                           5.000000                 0.000000   \n",
       "50%                           8.000000                 0.000000   \n",
       "75%                          11.000000                 0.000000   \n",
       "max                          58.000000                98.000000   \n",
       "\n",
       "       NumberRealEstateLoansOrLines  NumberOfTime60-89DaysPastDueNotWorse  \\\n",
       "count                 150000.000000                         150000.000000   \n",
       "mean                       1.018240                              0.240387   \n",
       "std                        1.129771                              4.155179   \n",
       "min                        0.000000                              0.000000   \n",
       "25%                        0.000000                              0.000000   \n",
       "50%                        1.000000                              0.000000   \n",
       "75%                        2.000000                              0.000000   \n",
       "max                       54.000000                             98.000000   \n",
       "\n",
       "       NumberOfDependents  \n",
       "count       146076.000000  \n",
       "mean             0.757222  \n",
       "std              1.115086  \n",
       "min              0.000000  \n",
       "25%              0.000000  \n",
       "50%              0.000000  \n",
       "75%              1.000000  \n",
       "max             20.000000  "
      ],
      "text/html": [
       "<div>\n",
       "<style scoped>\n",
       "    .dataframe tbody tr th:only-of-type {\n",
       "        vertical-align: middle;\n",
       "    }\n",
       "\n",
       "    .dataframe tbody tr th {\n",
       "        vertical-align: top;\n",
       "    }\n",
       "\n",
       "    .dataframe thead th {\n",
       "        text-align: right;\n",
       "    }\n",
       "</style>\n",
       "<table border=\"1\" class=\"dataframe\">\n",
       "  <thead>\n",
       "    <tr style=\"text-align: right;\">\n",
       "      <th></th>\n",
       "      <th>RevolvingUtilizationOfUnsecuredLines</th>\n",
       "      <th>age</th>\n",
       "      <th>NumberOfTime30-59DaysPastDueNotWorse</th>\n",
       "      <th>DebtRatio</th>\n",
       "      <th>MonthlyIncome</th>\n",
       "      <th>NumberOfOpenCreditLinesAndLoans</th>\n",
       "      <th>NumberOfTimes90DaysLate</th>\n",
       "      <th>NumberRealEstateLoansOrLines</th>\n",
       "      <th>NumberOfTime60-89DaysPastDueNotWorse</th>\n",
       "      <th>NumberOfDependents</th>\n",
       "    </tr>\n",
       "  </thead>\n",
       "  <tbody>\n",
       "    <tr>\n",
       "      <th>count</th>\n",
       "      <td>150000.000000</td>\n",
       "      <td>150000.000000</td>\n",
       "      <td>150000.000000</td>\n",
       "      <td>150000.000000</td>\n",
       "      <td>1.202690e+05</td>\n",
       "      <td>150000.000000</td>\n",
       "      <td>150000.000000</td>\n",
       "      <td>150000.000000</td>\n",
       "      <td>150000.000000</td>\n",
       "      <td>146076.000000</td>\n",
       "    </tr>\n",
       "    <tr>\n",
       "      <th>mean</th>\n",
       "      <td>6.048438</td>\n",
       "      <td>52.295207</td>\n",
       "      <td>0.421033</td>\n",
       "      <td>353.005076</td>\n",
       "      <td>6.670221e+03</td>\n",
       "      <td>8.452760</td>\n",
       "      <td>0.265973</td>\n",
       "      <td>1.018240</td>\n",
       "      <td>0.240387</td>\n",
       "      <td>0.757222</td>\n",
       "    </tr>\n",
       "    <tr>\n",
       "      <th>std</th>\n",
       "      <td>249.755371</td>\n",
       "      <td>14.771866</td>\n",
       "      <td>4.192781</td>\n",
       "      <td>2037.818523</td>\n",
       "      <td>1.438467e+04</td>\n",
       "      <td>5.145951</td>\n",
       "      <td>4.169304</td>\n",
       "      <td>1.129771</td>\n",
       "      <td>4.155179</td>\n",
       "      <td>1.115086</td>\n",
       "    </tr>\n",
       "    <tr>\n",
       "      <th>min</th>\n",
       "      <td>0.000000</td>\n",
       "      <td>0.000000</td>\n",
       "      <td>0.000000</td>\n",
       "      <td>0.000000</td>\n",
       "      <td>0.000000e+00</td>\n",
       "      <td>0.000000</td>\n",
       "      <td>0.000000</td>\n",
       "      <td>0.000000</td>\n",
       "      <td>0.000000</td>\n",
       "      <td>0.000000</td>\n",
       "    </tr>\n",
       "    <tr>\n",
       "      <th>25%</th>\n",
       "      <td>0.029867</td>\n",
       "      <td>41.000000</td>\n",
       "      <td>0.000000</td>\n",
       "      <td>0.175074</td>\n",
       "      <td>3.400000e+03</td>\n",
       "      <td>5.000000</td>\n",
       "      <td>0.000000</td>\n",
       "      <td>0.000000</td>\n",
       "      <td>0.000000</td>\n",
       "      <td>0.000000</td>\n",
       "    </tr>\n",
       "    <tr>\n",
       "      <th>50%</th>\n",
       "      <td>0.154181</td>\n",
       "      <td>52.000000</td>\n",
       "      <td>0.000000</td>\n",
       "      <td>0.366508</td>\n",
       "      <td>5.400000e+03</td>\n",
       "      <td>8.000000</td>\n",
       "      <td>0.000000</td>\n",
       "      <td>1.000000</td>\n",
       "      <td>0.000000</td>\n",
       "      <td>0.000000</td>\n",
       "    </tr>\n",
       "    <tr>\n",
       "      <th>75%</th>\n",
       "      <td>0.559046</td>\n",
       "      <td>63.000000</td>\n",
       "      <td>0.000000</td>\n",
       "      <td>0.868254</td>\n",
       "      <td>8.249000e+03</td>\n",
       "      <td>11.000000</td>\n",
       "      <td>0.000000</td>\n",
       "      <td>2.000000</td>\n",
       "      <td>0.000000</td>\n",
       "      <td>1.000000</td>\n",
       "    </tr>\n",
       "    <tr>\n",
       "      <th>max</th>\n",
       "      <td>50708.000000</td>\n",
       "      <td>109.000000</td>\n",
       "      <td>98.000000</td>\n",
       "      <td>329664.000000</td>\n",
       "      <td>3.008750e+06</td>\n",
       "      <td>58.000000</td>\n",
       "      <td>98.000000</td>\n",
       "      <td>54.000000</td>\n",
       "      <td>98.000000</td>\n",
       "      <td>20.000000</td>\n",
       "    </tr>\n",
       "  </tbody>\n",
       "</table>\n",
       "</div>"
      ]
     },
     "execution_count": 4,
     "metadata": {},
     "output_type": "execute_result"
    }
   ],
   "execution_count": 4
  },
  {
   "cell_type": "markdown",
   "metadata": {},
   "source": [
    "W takiej tabeli warto patrzeć na średnią, odchylenie standardowe i maksimum dla każdej cechy. Mamy tutaj ewidentne outliery! Przykładowo, dla `DebtRatio`:\n",
    "- średnio 353\n",
    "- odchylenie standardowe 2037\n",
    "- maksimum >300 tysięcy\n",
    "\n",
    "Trzeba to będzie naprawić. Dodatkowo, nawet abstrahując od tych outlierów, patrząc na statystyki można podejrzewać dość mocno skrzywione rozkłady (co jest dość normalne w ekonomii). W takich sytuacjach lepiej używać tzw. robust statistics, na przykład mediany zamiast średniej, czy też IQR zamiast odchyleń standardowych."
   ]
  },
  {
   "cell_type": "markdown",
   "metadata": {},
   "source": [
    "**Zadanie 1 (1.5 punktu)**\n",
    "\n",
    "1. Dokonaj imputacji danych medianą (`SimpleImputer`) oraz standaryzacji (`StandardScaler`).\n",
    "2. Wytrenuj regresję logistyczną z domyślnymi hiperparametrami (`LogisticRegression`). Pamiętaj o `n_jobs=-1` (mamy dużo danych) i ustawieniu `random_state=0`. Zmierz AUROC na zbiorze testowym.\n",
    "3. Dodaj usuwanie outlierów pomiędzy imputacją a standaryzacją. Skorzystaj z biblioteki feature-engine oraz klasy `OutlierTrimmer` (domyślne parametry). Wytrenuj na nowo model i porówaj wyniki.\n",
    "4. Dodaj `Winsorizer` pomiędzy usuwaniem outlierów a standaryzacją, który przytnie wartości zmiennych do zakresu między średnią a 3 odchyleniami standardowymi z góry (po usunięciu outlierów powinny mieć sensowne wartości). Ponownie wytrenuj i przetestuj model.\n",
    "\n",
    "W punkcie 3 filtrujemy także wiersze ze zbioru testowego. Niektórzy uznaliby to za niedopuszczalne, ale warto zwrócić uwagę, że usuwamy tutaj outliery uznawane za błędy, więc z drugiej strony testowanie na nich też daje błędny obraz sytuacji. Można więc to uznać za dopuszczalne, jeżeli dobrze wiemy, co robimy, i estymujemy parametry do usuwania tylko na zbiorze treningowym.\n",
    "\n",
    "Przyda się używać innych nazw zmiennych niż `X_train` i `X_test`, żeby nie nadpisać sobie danych w kolejnych krokach.\n",
    "\n",
    "**Uwaga:** upewnij się, że prawidłowo liczysz AUROC, przekazując do niego prawdopodobieństwa klasy pozytywnej!"
   ]
  },
  {
   "cell_type": "code",
   "metadata": {
    "scrolled": true,
    "ExecuteTime": {
     "end_time": "2025-04-29T11:44:51.434187Z",
     "start_time": "2025-04-29T11:44:49.297069Z"
    }
   },
   "source": [
    "from sklearn.preprocessing import StandardScaler\n",
    "from sklearn.impute import SimpleImputer\n",
    "from sklearn.pipeline import Pipeline\n",
    "from sklearn.linear_model import LogisticRegression\n",
    "from feature_engine.outliers import OutlierTrimmer, Winsorizer\n",
    "from sklearn.metrics import roc_auc_score\n",
    "\n",
    "pipe_1 = Pipeline(\n",
    "    [(\"imputer\", SimpleImputer(strategy=\"median\")), (\"scaler\", StandardScaler())]\n",
    ")\n",
    "pipe_1.fit(X_train)\n",
    "X_train_1 = pipe_1.transform(X_train)\n",
    "X_test_1 = pipe_1.transform(X_test)\n",
    "\n",
    "log_reg = LogisticRegression(random_state=0, n_jobs=-1)\n",
    "log_reg.fit(X_train_1, y_train)\n",
    "y_pred_proba1 = log_reg.predict_proba(X_test_1)[:, 1]\n",
    "\n",
    "auroc_score = roc_auc_score(y_test, y_pred_proba1)\n",
    "\n",
    "print(f\"AUROC score: {auroc_score}\")"
   ],
   "outputs": [
    {
     "name": "stdout",
     "output_type": "stream",
     "text": [
      "AUROC score: 0.7060164555569461\n"
     ]
    }
   ],
   "execution_count": 6
  },
  {
   "metadata": {
    "ExecuteTime": {
     "end_time": "2025-04-29T12:22:27.732117Z",
     "start_time": "2025-04-29T12:22:25.687472Z"
    }
   },
   "cell_type": "code",
   "source": [
    "from feature_engine.pipeline import Pipeline\n",
    "\n",
    "pipe_2 = Pipeline(\n",
    "    [\n",
    "        (\"imputer\", SimpleImputer(strategy=\"median\")),\n",
    "        (\"outlier_trimmer\", OutlierTrimmer()),\n",
    "        (\"scaler\", StandardScaler()),\n",
    "    ]\n",
    ")\n",
    "pipe_2.fit(X_train, y_train)\n",
    "\n",
    "\n",
    "X_train_2, y_train_2 = pipe_2.transform_x_y(X_train, y_train)\n",
    "X_test_2, y_test_2 = pipe_2.transform_x_y(X_test, y_test)\n",
    "\n",
    "log_reg_2 = LogisticRegression(random_state=0, n_jobs=-1)\n",
    "log_reg_2.fit(X_train_2, y_train_2)\n",
    "y_pred_proba2 = log_reg_2.predict_proba(X_test_2)[:, 1]\n",
    "\n",
    "auroc_score = roc_auc_score(y_test_2, y_pred_proba2)\n",
    "\n",
    "print(f\"AUROC score: {auroc_score}\")"
   ],
   "outputs": [
    {
     "name": "stdout",
     "output_type": "stream",
     "text": [
      "AUROC score: 0.8541075646472249\n"
     ]
    }
   ],
   "execution_count": 43
  },
  {
   "metadata": {
    "ExecuteTime": {
     "end_time": "2025-04-29T12:22:56.329203Z",
     "start_time": "2025-04-29T12:22:54.192155Z"
    }
   },
   "cell_type": "code",
   "source": [
    "from feature_engine.pipeline import Pipeline\n",
    "\n",
    "pipe_3 = Pipeline(\n",
    "    [\n",
    "        (\"imputer\", SimpleImputer(strategy=\"median\")),\n",
    "        (\"outlier_trimmer\", OutlierTrimmer()),\n",
    "        (\"winsorizer\", Winsorizer()),\n",
    "        (\"scaler\", StandardScaler()),\n",
    "    ]\n",
    ")\n",
    "pipe_3.fit(X_train, y_train)\n",
    "\n",
    "\n",
    "X_train_3, y_train_3 = pipe_3.transform_x_y(X_train, y_train)\n",
    "X_test_3, y_test_3 = pipe_3.transform_x_y(X_test, y_test)\n",
    "\n",
    "log_reg_3 = LogisticRegression(random_state=0, n_jobs=-1)\n",
    "log_reg_3.fit(X_train_3, y_train_3)\n",
    "y_pred_proba3 = log_reg_3.predict_proba(X_test_3)[:, 1]\n",
    "\n",
    "auroc_score = roc_auc_score(y_test_3, y_pred_proba3)\n",
    "\n",
    "print(f\"AUROC score: {auroc_score}\")"
   ],
   "outputs": [
    {
     "name": "stdout",
     "output_type": "stream",
     "text": [
      "AUROC score: 0.8541075646472249\n"
     ]
    }
   ],
   "execution_count": 45
  },
  {
   "cell_type": "markdown",
   "metadata": {},
   "source": [
    "Teraz mamy faktycznie czysty zbiór danych i wytrenowane pierwsze modele. Warto zwrócić jednak uwagę na dwa fakty:\n",
    "1. Nie dokonaliśmy żadnego tuningu siły regularyzacji, na którą regresja logistyczna jest czuła\n",
    "2. Mamy mocno niezbalansowane klasy, a uwzględniamy je z taką samą wagą"
   ]
  },
  {
   "cell_type": "markdown",
   "metadata": {},
   "source": [
    "**Zadanie 2 (1 punkt)**\n",
    "\n",
    "1. Dokonaj tuningu siły regularyzacji:\n",
    "   - sprawdź 100 wartości `C` (odwrotność siły regularyzacji, jak w SVM)\n",
    "   - wykorzystaj `LogisticRegressionCV`\n",
    "   - wybierz model o najlepszej wartości AUROC (`scoring`)\n",
    "   - pamiętaj o `random_state=0`\n",
    "   - sprawdź wynik modelu na zbiorze testowym\n",
    "2. Dodaj zbalansowane wagi klas (`class_weight`), z tuningiem siły regularyzacji jak wyżej. Przetestuj model.\n",
    "3. Dla porównania, wytrenuj las losowy (`RandomForestClassifier`) z 500 drzewami i zbalansowanymi wagami klas, i sprawdź wyniki.\n",
    "4. Skomentuj wyniki:\n",
    "   - czy twoim zdaniem to ogólnie dobry wynik dla takiego problemu?\n",
    "   - czy warto było poświęcić czas na preprocessing danych?\n",
    "   - jak wypadła regresja logistyczna w porównaniu do lasu losowego? Czy jest do dla ciebie oczekiwany, czy zaskakujący wynik?"
   ]
  },
  {
   "cell_type": "code",
   "metadata": {
    "scrolled": true,
    "ExecuteTime": {
     "end_time": "2025-04-29T13:32:33.587449Z",
     "start_time": "2025-04-29T13:32:01.194209Z"
    }
   },
   "source": [
    "from sklearn.linear_model import LogisticRegressionCV\n",
    "from sklearn.ensemble import RandomForestClassifier\n",
    "\n",
    "log_reg_cv = LogisticRegressionCV(\n",
    "    Cs=100, cv=5, scoring=\"roc_auc\", random_state=0, class_weight=\"balanced\"\n",
    ")\n",
    "\n",
    "log_reg_cv.fit(X_train_3, y_train_3)\n",
    "y_pred_proba_cv = log_reg_cv.predict_proba(X_test_3)[:, 1]\n",
    "auroc_score = roc_auc_score(y_test_3, y_pred_proba_cv)\n",
    "print(f\"Logistic Regression CV AUROC score: {auroc_score}\")\n",
    "\n",
    "\n",
    "rfc = RandomForestClassifier(\n",
    "    n_estimators=500, class_weight=\"balanced\", n_jobs=-1, random_state=0\n",
    ")\n",
    "rfc.fit(X_train_3, y_train_3)\n",
    "\n",
    "y_pred_proba_rfc = rfc.predict_proba(X_test_3)[:, 1]\n",
    "auroc_score = roc_auc_score(y_test_3, y_pred_proba_rfc)\n",
    "print(f\"Random Forest Classifier AUROC score: {auroc_score}\")"
   ],
   "outputs": [
    {
     "name": "stdout",
     "output_type": "stream",
     "text": [
      "Logistic Regression CV AUROC score: 0.8647386331122497\n",
      "Random Forest Classifier AUROC score: 0.8492195683963829\n"
     ]
    }
   ],
   "execution_count": 49
  },
  {
   "cell_type": "markdown",
   "metadata": {},
   "source": "Uważam, iż otrzymane wyniki są dość zadowalajace w kontekście tego problemu. Ponadto, dzięki preprocessingowi danych udało się uzyskac wyniki lepszy o ponad 15 p.p względem pierwszego wyniku, zatem zdecyowanie było to opłacalne.Regresja logistyczna uzyskała nieznacznie lepszy wynik od lasu losowego, co było dla mnie dość nieoczekiwane, jednak przypuszczam,że dobre przygotowanie danych mogło mieć na to wpływ."
  },
  {
   "cell_type": "markdown",
   "metadata": {},
   "source": [
    "Sprawdźmy jeszcze, jak dobrze nam idzie z predykcjami prawdopodobieństwa. Regresja logistyczna jest z natury dobrze skalibrowana, ale nie ma takiej gwarancji na każdym zbiorze danych. W szczególności może mieć problemy na zbiorach niezbalansowanych, przez bardzo niewielką ilość klasy pozytywnej (a priori jest rzadka).\n",
    "\n",
    "Do rysowania krzywych kalibracji służy klasa `CalibrationDisplay`. W perfekcyjnym przypadku prawdopodobieństwa modelu rosną liniowo raz z \"pewnością\", że punkt należy do klasy pozytywnej. Dla zainteresowanych, [dokumentacja Scikit-learn](https://scikit-learn.org/stable/modules/calibration.html#calibration-curves) omawia te krzywe nieco dokładniej."
   ]
  },
  {
   "cell_type": "code",
   "metadata": {
    "ExecuteTime": {
     "end_time": "2025-04-29T13:44:38.598055Z",
     "start_time": "2025-04-29T13:44:37.215056Z"
    }
   },
   "source": [
    "from sklearn.calibration import CalibrationDisplay\n",
    "\n",
    "X_test_scaled = X_test_3\n",
    "y_test_out_trimmed = y_test_3\n",
    "\n",
    "clf = log_reg_cv  # put model variable from last exercise here\n",
    "\n",
    "CalibrationDisplay.from_estimator(clf, X_test_scaled, y_test_out_trimmed, n_bins=10)"
   ],
   "outputs": [
    {
     "data": {
      "text/plain": [
       "<sklearn.calibration.CalibrationDisplay at 0x22ff7440750>"
      ]
     },
     "execution_count": 50,
     "metadata": {},
     "output_type": "execute_result"
    },
    {
     "data": {
      "text/plain": [
       "<Figure size 640x480 with 1 Axes>"
      ],
      "image/png": "[encoded data removed]"
     },
     "metadata": {},
     "output_type": "display_data"
    }
   ],
   "execution_count": 50
  },
  {
   "cell_type": "markdown",
   "metadata": {},
   "source": [
    "Krótko mówiąc, nie jest dobrze! Nasz model praktycznie zawsze bardzo mocno zaniża prawdopodobieństwo. W połączeniu z wysokim AUROC oznacza to, że w klasyfikacji generalnie nieźle sobie radzi, dla rosnącego prawdopodobieństwa dość szybko przypisuje punkt do klasy pozytywnej, ale finalne wartości prawdopodobieństw są notorycznie zbyt niskie.\n",
    "\n",
    "Do poprawienia tej sytuacji służy `CalibratedClassifierCV`, który na podstawie predykcji naszego modelu oraz zbioru treningowego dotrenowuje dodatkowy model do doprecyzowania prawdopodobieństw. Może być to albo regresja logistyczna, albo tzw. regresja izotoniczna ([isotonic regression](https://scikit-learn.org/stable/modules/isotonic.html#isotonic)) - specjalny model wykorzystujący fakt, że prawdopodobieństwa są stricte rosnące od 0 do 1.\n",
    "\n",
    "**Zadanie 3 (1 punkt)**\n",
    "\n",
    "Wytrenuj kalibrator prawdopodobieństwa z pomocą `CalibratedClassifierCV`. Wykorzystaj tryb regresji izotonicznej i 10-krotną walidację skrośną. Przekaż do niego wytrenowany estymator wykorzystany w poprzednim ćwiczeniu. Narysuj krzywą kalibracji na zbiorze testowym, jak w poprzednim przykładzie.\n",
    "\n",
    "Skomentuj, jak udało się poprawić kalibrację modelu. Czy twoim zdaniem taki model przewiduje już dość dobrze prawdopodobieństwa?"
   ]
  },
  {
   "cell_type": "code",
   "metadata": {
    "ExecuteTime": {
     "end_time": "2025-04-29T13:49:45.558281Z",
     "start_time": "2025-04-29T13:49:06.849085Z"
    }
   },
   "source": [
    "from sklearn.calibration import CalibratedClassifierCV\n",
    "\n",
    "calibrated_clf_cv = CalibratedClassifierCV(\n",
    "    estimator=log_reg_cv, method=\"isotonic\", cv=10, n_jobs=-1\n",
    ")\n",
    "calibrated_clf_cv.fit(X_train_3, y_train_3)\n",
    "\n",
    "CalibrationDisplay.from_estimator(\n",
    "    calibrated_clf_cv, X_test_scaled, y_test_out_trimmed, n_bins=10\n",
    ")"
   ],
   "outputs": [
    {
     "data": {
      "text/plain": [
       "<sklearn.calibration.CalibrationDisplay at 0x22fb2a07950>"
      ]
     },
     "execution_count": 51,
     "metadata": {},
     "output_type": "execute_result"
    },
    {
     "data": {
      "text/plain": [
       "<Figure size 640x480 with 1 Axes>"
      ],
      "image/png": "[encoded data removed]"
     },
     "metadata": {},
     "output_type": "display_data"
    }
   ],
   "execution_count": 51
  },
  {
   "cell_type": "markdown",
   "metadata": {},
   "source": [
    "// skomentuj tutaj\n",
    "\n",
    "\n",
    "Analizując uzyskane wykresy, w drugim przypadku udało się znacząco poprawić wyniki, uważam, iż predykcje takiego modelu są już wystarczjąco dobre."
   ]
  },
  {
   "cell_type": "markdown",
   "metadata": {},
   "source": [
    "## Detekcja spamu"
   ]
  },
  {
   "attachments": {},
   "cell_type": "markdown",
   "metadata": {},
   "source": [
    "Wykorzystamy teraz klasyfikator Naiwnego Bayesa do klasyfikacji binarnej tekstów - czy email jest spamem, czy też nie (tzw. \"ham\"). Takie zadanie nazywa się też spam/ham classification. Zbiorem będzie [Enron Spam dataset](http://nlp.cs.aueb.gr/software_and_datasets/Enron-Spam/index.html), zebrany na potrzeby artykułu:\n",
    "\n",
    "> Metsis, Vangelis, Ion Androutsopoulos, and Georgios Paliouras. *\"Spam filtering with Naive Bayes - which Naive Bayes?.\"* CEAS. Vol. 17. 2006. [link](https://userweb.cs.txstate.edu/~v_m137/docs/papers/ceas2006_paper_corrected.pdf)\n",
    "\n",
    "[Upadek firmy energetycznej Enron](https://userweb.cs.txstate.edu/~v_m137/docs/papers/ceas2006_paper_corrected.pdf) i skandal wywołany wiadomościami o nieprawidłowościach finansowych spowodowały, że podczas śledztwa i procesu zmuszono firmę do upublicznienia pełnej zawartości skrzynek mailowych 150 pracowników. Jest to doskonałe źródło prawdziwych danych, typowych emaili niebędących spamem, i było wykorzystywane wielokrotnie na potrzeby tworzenia wielu różnych zbiorów danych. Na potrzeby powyższego artykułu wybrano 6 pracowników z dużą liczbą emaili.\n",
    "\n",
    "Maile będące spamem otrzymano z 4 różnych źródeł:\n",
    "1. [Zbioru danych SpamAssassin](https://spamassassin.apache.org/old/publiccorpus/) - stworzony z pomocą [Apache SpamAssassin](https://spamassassin.apache.org/), narzędzia open source do detekcji spamu. Maile niebędące spamem są w nim bardzo specyficzne (pochodzą ze skrzynek fundacji Apache i dotyczą praktycznie tylko programownaia), za to spam jest uniwersalny.\n",
    "2. [Project Honeypot](https://www.projecthoneypot.org/) - projekt mający na celu wykrywanie spammerów (w tym przez specjalne pułapki, tzw. spam baiting) i tworzenie baz do filtrowania spamu.\n",
    "3. [Bazę spamu Bruce'a Guentera](http://untroubled.org/spam/) - gromadzi on cały spam, który dostaje na skrzynki (w tym takie do spam baitingu) od 1997 roku.\n",
    "4. Maile ze spamem zgromadzone przez trzeciego autora artykułu, Georgiosa Paliourasa.\n",
    "\n",
    "Artykuł prezentuje spersonalizowane kolekcje maili, dla każdego z 6 wybranych pracowników Enronu. My natomiast połączymy wszystkie dane i stworzymy prosty, uniwersalny filtr. Nasz filtr będzie operował tylko na tytułach i treści maili - realnie wdrażane systemy są dużo bardziej rozbudowane i wykorzystują metadane, bazy adresów, analizę tagów HTML i XML etc.\n",
    "\n",
    "Wykorzystamy przetworzoną postać tego zbioru w postaci pliku CSV z interesującymi nas elementami. Skrypt do tego wzięto [z tego repozytorium na Githubie](https://github.com/MWiechmann/enron_spam_data?fbclid=IwAR1icPxic8TDD6HGk6empohwcZ76uig0NxwxK7sWbczinBNfxEEt-ETparA)."
   ]
  },
  {
   "cell_type": "code",
   "metadata": {
    "ExecuteTime": {
     "end_time": "2025-04-29T14:05:16.679589Z",
     "start_time": "2025-04-29T14:05:16.144180Z"
    }
   },
   "source": [
    "df = pd.read_csv(\"enron_spam_data.csv\")\n",
    "df"
   ],
   "outputs": [
    {
     "data": {
      "text/plain": [
       "       Message ID                                            Subject  \\\n",
       "0               0                       christmas tree farm pictures   \n",
       "1               1                           vastar resources , inc .   \n",
       "2               2                       calpine daily gas nomination   \n",
       "3               3                                         re : issue   \n",
       "4               4                          meter 7268 nov allocation   \n",
       "...           ...                                                ...   \n",
       "33711       33711  = ? iso - 8859 - 1 ? q ? good _ news _ c = eda...   \n",
       "33712       33712  all prescript medicines are on special . to be...   \n",
       "33713       33713              the next generation online pharmacy .   \n",
       "33714       33714                     bloow in 5 - 10 times the time   \n",
       "33715       33715                   dear sir , i am interested in it   \n",
       "\n",
       "                                                 Message Spam/Ham        Date  \n",
       "0                                                    NaN      ham  1999-12-10  \n",
       "1      gary , production from the high island larger ...      ham  1999-12-13  \n",
       "2                 - calpine daily gas nomination 1 . doc      ham  1999-12-14  \n",
       "3      fyi - see note below - already done .\\nstella\\...      ham  1999-12-14  \n",
       "4      fyi .\\n- - - - - - - - - - - - - - - - - - - -...      ham  1999-12-14  \n",
       "...                                                  ...      ...         ...  \n",
       "33711  hello , welcome to gigapharm onlinne shop .\\np...     spam  2005-07-29  \n",
       "33712  i got it earlier than expected and it was wrap...     spam  2005-07-29  \n",
       "33713  are you ready to rock on ? let the man in you ...     spam  2005-07-30  \n",
       "33714  learn how to last 5 - 10 times longer in\\nbed ...     spam  2005-07-30  \n",
       "33715  hi : )\\ndo you need some softwares ? i can giv...     spam  2005-07-31  \n",
       "\n",
       "[33716 rows x 5 columns]"
      ],
      "text/html": [
       "<div>\n",
       "<style scoped>\n",
       "    .dataframe tbody tr th:only-of-type {\n",
       "        vertical-align: middle;\n",
       "    }\n",
       "\n",
       "    .dataframe tbody tr th {\n",
       "        vertical-align: top;\n",
       "    }\n",
       "\n",
       "    .dataframe thead th {\n",
       "        text-align: right;\n",
       "    }\n",
       "</style>\n",
       "<table border=\"1\" class=\"dataframe\">\n",
       "  <thead>\n",
       "    <tr style=\"text-align: right;\">\n",
       "      <th></th>\n",
       "      <th>Message ID</th>\n",
       "      <th>Subject</th>\n",
       "      <th>Message</th>\n",
       "      <th>Spam/Ham</th>\n",
       "      <th>Date</th>\n",
       "    </tr>\n",
       "  </thead>\n",
       "  <tbody>\n",
       "    <tr>\n",
       "      <th>0</th>\n",
       "      <td>0</td>\n",
       "      <td>christmas tree farm pictures</td>\n",
       "      <td>NaN</td>\n",
       "      <td>ham</td>\n",
       "      <td>1999-12-10</td>\n",
       "    </tr>\n",
       "    <tr>\n",
       "      <th>1</th>\n",
       "      <td>1</td>\n",
       "      <td>vastar resources , inc .</td>\n",
       "      <td>gary , production from the high island larger ...</td>\n",
       "      <td>ham</td>\n",
       "      <td>1999-12-13</td>\n",
       "    </tr>\n",
       "    <tr>\n",
       "      <th>2</th>\n",
       "      <td>2</td>\n",
       "      <td>calpine daily gas nomination</td>\n",
       "      <td>- calpine daily gas nomination 1 . doc</td>\n",
       "      <td>ham</td>\n",
       "      <td>1999-12-14</td>\n",
       "    </tr>\n",
       "    <tr>\n",
       "      <th>3</th>\n",
       "      <td>3</td>\n",
       "      <td>re : issue</td>\n",
       "      <td>fyi - see note below - already done .\\nstella\\...</td>\n",
       "      <td>ham</td>\n",
       "      <td>1999-12-14</td>\n",
       "    </tr>\n",
       "    <tr>\n",
       "      <th>4</th>\n",
       "      <td>4</td>\n",
       "      <td>meter 7268 nov allocation</td>\n",
       "      <td>fyi .\\n- - - - - - - - - - - - - - - - - - - -...</td>\n",
       "      <td>ham</td>\n",
       "      <td>1999-12-14</td>\n",
       "    </tr>\n",
       "    <tr>\n",
       "      <th>...</th>\n",
       "      <td>...</td>\n",
       "      <td>...</td>\n",
       "      <td>...</td>\n",
       "      <td>...</td>\n",
       "      <td>...</td>\n",
       "    </tr>\n",
       "    <tr>\n",
       "      <th>33711</th>\n",
       "      <td>33711</td>\n",
       "      <td>= ? iso - 8859 - 1 ? q ? good _ news _ c = eda...</td>\n",
       "      <td>hello , welcome to gigapharm onlinne shop .\\np...</td>\n",
       "      <td>spam</td>\n",
       "      <td>2005-07-29</td>\n",
       "    </tr>\n",
       "    <tr>\n",
       "      <th>33712</th>\n",
       "      <td>33712</td>\n",
       "      <td>all prescript medicines are on special . to be...</td>\n",
       "      <td>i got it earlier than expected and it was wrap...</td>\n",
       "      <td>spam</td>\n",
       "      <td>2005-07-29</td>\n",
       "    </tr>\n",
       "    <tr>\n",
       "      <th>33713</th>\n",
       "      <td>33713</td>\n",
       "      <td>the next generation online pharmacy .</td>\n",
       "      <td>are you ready to rock on ? let the man in you ...</td>\n",
       "      <td>spam</td>\n",
       "      <td>2005-07-30</td>\n",
       "    </tr>\n",
       "    <tr>\n",
       "      <th>33714</th>\n",
       "      <td>33714</td>\n",
       "      <td>bloow in 5 - 10 times the time</td>\n",
       "      <td>learn how to last 5 - 10 times longer in\\nbed ...</td>\n",
       "      <td>spam</td>\n",
       "      <td>2005-07-30</td>\n",
       "    </tr>\n",
       "    <tr>\n",
       "      <th>33715</th>\n",
       "      <td>33715</td>\n",
       "      <td>dear sir , i am interested in it</td>\n",
       "      <td>hi : )\\ndo you need some softwares ? i can giv...</td>\n",
       "      <td>spam</td>\n",
       "      <td>2005-07-31</td>\n",
       "    </tr>\n",
       "  </tbody>\n",
       "</table>\n",
       "<p>33716 rows × 5 columns</p>\n",
       "</div>"
      ]
     },
     "execution_count": 63,
     "metadata": {},
     "output_type": "execute_result"
    }
   ],
   "execution_count": 63
  },
  {
   "cell_type": "markdown",
   "metadata": {},
   "source": [
    "Na pierwszy rzut oka widać parę problemów:\n",
    "- kolumny `Message ID` i `Date` są niepotrzebne\n",
    "- niektóre wiadomości mają tylko tytuł lub tylko wiadomość\n",
    "- klasa jest zapisana jako string spam/ham\n",
    "\n",
    "**Zadanie 4 (0.5 punktu)**\n",
    "\n",
    "1. Uzupełnij wartości brakujące w kolumnach `Subject` i `Message` pustymi stringami.\n",
    "2. Połącz kolumny `Subject` i `Message` w jedną kolumnę `text`, ze spacją pomiędzy nimi. Może się przydać metoda `pd.Series.str.cat()`. Wyodrębnij ją do nowej zmiennej `texts`.\n",
    "3. Zamień wartość `ham` na 0 i `spam` na 1 w kolumnie `Spam/Ham`. Wyodrębnij ją do nowej zmiennej `y`."
   ]
  },
  {
   "cell_type": "code",
   "metadata": {
    "ExecuteTime": {
     "end_time": "2025-04-29T14:05:19.078899Z",
     "start_time": "2025-04-29T14:05:19.011979Z"
    }
   },
   "source": [
    "df[\"Subject\"] = df[\"Subject\"].fillna(\"\")\n",
    "df[\"Message\"] = df[\"Message\"].fillna(\"\")\n",
    "df[\"text\"] = df[\"Subject\"].str.cat(df[\"Message\"], sep=\" \")\n",
    "\n",
    "texts = df[\"text\"]\n",
    "\n",
    "df[\"Spam/Ham\"] = df[\"Spam/Ham\"].map({\"ham\": 0, \"spam\": 1})\n",
    "\n",
    "y = df[\"Spam/Ham\"]\n",
    "\n",
    "df"
   ],
   "outputs": [
    {
     "data": {
      "text/plain": [
       "       Message ID                                            Subject  \\\n",
       "0               0                       christmas tree farm pictures   \n",
       "1               1                           vastar resources , inc .   \n",
       "2               2                       calpine daily gas nomination   \n",
       "3               3                                         re : issue   \n",
       "4               4                          meter 7268 nov allocation   \n",
       "...           ...                                                ...   \n",
       "33711       33711  = ? iso - 8859 - 1 ? q ? good _ news _ c = eda...   \n",
       "33712       33712  all prescript medicines are on special . to be...   \n",
       "33713       33713              the next generation online pharmacy .   \n",
       "33714       33714                     bloow in 5 - 10 times the time   \n",
       "33715       33715                   dear sir , i am interested in it   \n",
       "\n",
       "                                                 Message  Spam/Ham  \\\n",
       "0                                                                0   \n",
       "1      gary , production from the high island larger ...         0   \n",
       "2                 - calpine daily gas nomination 1 . doc         0   \n",
       "3      fyi - see note below - already done .\\nstella\\...         0   \n",
       "4      fyi .\\n- - - - - - - - - - - - - - - - - - - -...         0   \n",
       "...                                                  ...       ...   \n",
       "33711  hello , welcome to gigapharm onlinne shop .\\np...         1   \n",
       "33712  i got it earlier than expected and it was wrap...         1   \n",
       "33713  are you ready to rock on ? let the man in you ...         1   \n",
       "33714  learn how to last 5 - 10 times longer in\\nbed ...         1   \n",
       "33715  hi : )\\ndo you need some softwares ? i can giv...         1   \n",
       "\n",
       "             Date                                               text  \n",
       "0      1999-12-10                      christmas tree farm pictures   \n",
       "1      1999-12-13  vastar resources , inc . gary , production fro...  \n",
       "2      1999-12-14  calpine daily gas nomination - calpine daily g...  \n",
       "3      1999-12-14  re : issue fyi - see note below - already done...  \n",
       "4      1999-12-14  meter 7268 nov allocation fyi .\\n- - - - - - -...  \n",
       "...           ...                                                ...  \n",
       "33711  2005-07-29  = ? iso - 8859 - 1 ? q ? good _ news _ c = eda...  \n",
       "33712  2005-07-29  all prescript medicines are on special . to be...  \n",
       "33713  2005-07-30  the next generation online pharmacy . are you ...  \n",
       "33714  2005-07-30  bloow in 5 - 10 times the time learn how to la...  \n",
       "33715  2005-07-31  dear sir , i am interested in it hi : )\\ndo yo...  \n",
       "\n",
       "[33716 rows x 6 columns]"
      ],
      "text/html": [
       "<div>\n",
       "<style scoped>\n",
       "    .dataframe tbody tr th:only-of-type {\n",
       "        vertical-align: middle;\n",
       "    }\n",
       "\n",
       "    .dataframe tbody tr th {\n",
       "        vertical-align: top;\n",
       "    }\n",
       "\n",
       "    .dataframe thead th {\n",
       "        text-align: right;\n",
       "    }\n",
       "</style>\n",
       "<table border=\"1\" class=\"dataframe\">\n",
       "  <thead>\n",
       "    <tr style=\"text-align: right;\">\n",
       "      <th></th>\n",
       "      <th>Message ID</th>\n",
       "      <th>Subject</th>\n",
       "      <th>Message</th>\n",
       "      <th>Spam/Ham</th>\n",
       "      <th>Date</th>\n",
       "      <th>text</th>\n",
       "    </tr>\n",
       "  </thead>\n",
       "  <tbody>\n",
       "    <tr>\n",
       "      <th>0</th>\n",
       "      <td>0</td>\n",
       "      <td>christmas tree farm pictures</td>\n",
       "      <td></td>\n",
       "      <td>0</td>\n",
       "      <td>1999-12-10</td>\n",
       "      <td>christmas tree farm pictures</td>\n",
       "    </tr>\n",
       "    <tr>\n",
       "      <th>1</th>\n",
       "      <td>1</td>\n",
       "      <td>vastar resources , inc .</td>\n",
       "      <td>gary , production from the high island larger ...</td>\n",
       "      <td>0</td>\n",
       "      <td>1999-12-13</td>\n",
       "      <td>vastar resources , inc . gary , production fro...</td>\n",
       "    </tr>\n",
       "    <tr>\n",
       "      <th>2</th>\n",
       "      <td>2</td>\n",
       "      <td>calpine daily gas nomination</td>\n",
       "      <td>- calpine daily gas nomination 1 . doc</td>\n",
       "      <td>0</td>\n",
       "      <td>1999-12-14</td>\n",
       "      <td>calpine daily gas nomination - calpine daily g...</td>\n",
       "    </tr>\n",
       "    <tr>\n",
       "      <th>3</th>\n",
       "      <td>3</td>\n",
       "      <td>re : issue</td>\n",
       "      <td>fyi - see note below - already done .\\nstella\\...</td>\n",
       "      <td>0</td>\n",
       "      <td>1999-12-14</td>\n",
       "      <td>re : issue fyi - see note below - already done...</td>\n",
       "    </tr>\n",
       "    <tr>\n",
       "      <th>4</th>\n",
       "      <td>4</td>\n",
       "      <td>meter 7268 nov allocation</td>\n",
       "      <td>fyi .\\n- - - - - - - - - - - - - - - - - - - -...</td>\n",
       "      <td>0</td>\n",
       "      <td>1999-12-14</td>\n",
       "      <td>meter 7268 nov allocation fyi .\\n- - - - - - -...</td>\n",
       "    </tr>\n",
       "    <tr>\n",
       "      <th>...</th>\n",
       "      <td>...</td>\n",
       "      <td>...</td>\n",
       "      <td>...</td>\n",
       "      <td>...</td>\n",
       "      <td>...</td>\n",
       "      <td>...</td>\n",
       "    </tr>\n",
       "    <tr>\n",
       "      <th>33711</th>\n",
       "      <td>33711</td>\n",
       "      <td>= ? iso - 8859 - 1 ? q ? good _ news _ c = eda...</td>\n",
       "      <td>hello , welcome to gigapharm onlinne shop .\\np...</td>\n",
       "      <td>1</td>\n",
       "      <td>2005-07-29</td>\n",
       "      <td>= ? iso - 8859 - 1 ? q ? good _ news _ c = eda...</td>\n",
       "    </tr>\n",
       "    <tr>\n",
       "      <th>33712</th>\n",
       "      <td>33712</td>\n",
       "      <td>all prescript medicines are on special . to be...</td>\n",
       "      <td>i got it earlier than expected and it was wrap...</td>\n",
       "      <td>1</td>\n",
       "      <td>2005-07-29</td>\n",
       "      <td>all prescript medicines are on special . to be...</td>\n",
       "    </tr>\n",
       "    <tr>\n",
       "      <th>33713</th>\n",
       "      <td>33713</td>\n",
       "      <td>the next generation online pharmacy .</td>\n",
       "      <td>are you ready to rock on ? let the man in you ...</td>\n",
       "      <td>1</td>\n",
       "      <td>2005-07-30</td>\n",
       "      <td>the next generation online pharmacy . are you ...</td>\n",
       "    </tr>\n",
       "    <tr>\n",
       "      <th>33714</th>\n",
       "      <td>33714</td>\n",
       "      <td>bloow in 5 - 10 times the time</td>\n",
       "      <td>learn how to last 5 - 10 times longer in\\nbed ...</td>\n",
       "      <td>1</td>\n",
       "      <td>2005-07-30</td>\n",
       "      <td>bloow in 5 - 10 times the time learn how to la...</td>\n",
       "    </tr>\n",
       "    <tr>\n",
       "      <th>33715</th>\n",
       "      <td>33715</td>\n",
       "      <td>dear sir , i am interested in it</td>\n",
       "      <td>hi : )\\ndo you need some softwares ? i can giv...</td>\n",
       "      <td>1</td>\n",
       "      <td>2005-07-31</td>\n",
       "      <td>dear sir , i am interested in it hi : )\\ndo yo...</td>\n",
       "    </tr>\n",
       "  </tbody>\n",
       "</table>\n",
       "<p>33716 rows × 6 columns</p>\n",
       "</div>"
      ]
     },
     "execution_count": 64,
     "metadata": {},
     "output_type": "execute_result"
    }
   ],
   "execution_count": 64
  },
  {
   "cell_type": "markdown",
   "metadata": {},
   "source": [
    "Sprawdźmy jeszcze rozkład klas."
   ]
  },
  {
   "cell_type": "code",
   "metadata": {
    "ExecuteTime": {
     "end_time": "2025-04-29T14:05:22.558057Z",
     "start_time": "2025-04-29T14:05:22.451737Z"
    }
   },
   "source": [
    "class_percentages = y.value_counts(normalize=True)\n",
    "class_percentages = round(class_percentages * 100, 2)\n",
    "\n",
    "ax = class_percentages.plot.bar(title=\"Class distribution\", rot=0)\n",
    "\n",
    "ax.bar_label(ax.containers[0])"
   ],
   "outputs": [
    {
     "data": {
      "text/plain": [
       "[Text(0, 0, '50.93'), Text(0, 0, '49.07')]"
      ]
     },
     "execution_count": 65,
     "metadata": {},
     "output_type": "execute_result"
    },
    {
     "data": {
      "text/plain": [
       "<Figure size 640x480 with 1 Axes>"
      ],
      "image/png": "[encoded data removed]"
     },
     "metadata": {},
     "output_type": "display_data"
    }
   ],
   "execution_count": 65
  },
  {
   "cell_type": "markdown",
   "metadata": {},
   "source": [
    "Ten zbiór w całości jest o tyle specyficzny, że dodano tutaj aż tyle spamu, że jest go nawet więcej niż zwykłych emaili. W praktyce spamu jest dużo mniej, ok. 1/3 maili. Tutaj uznajemy, że klasy są zbalansowane.\n",
    "\n",
    "Typową metryką w klasyfikacji spamu jest **precyzja (precision)**, bo wyznacza ona, jak dobrzy jesteśmy w oznaczaniu spamu. Recall ma mniejsze znaczenie, bo bardziej zależy nam na minimalizacji FP - ważne maile nie mogą trafiać do spamu, natomiast jeżeli spam czasem trafi do zwykłej skrzynki (FN), to nie ma wielkiego znaczenia. Często używa się też F1-score jako metryki.\n",
    "\n",
    "W przypadku tych metryk (precision/recall/F1-score) zawsze trzeba sprawdzić co najmniej dwie z nich, żeby uniknąć przypadkiem sytuacji, że mamy np. precision bliskie 100%, a dramatycznie niski recall - to też nie byłoby akceptowalne. Trzeba też uważać podczas walidacji skrośnej - np. klasyfikator przewidujący cały czas klasę pozytywną miałby 100% recall, a cały czas negatywną 100% precision, więc typowo najwygodniej jest optymalizować F1-score.\n",
    "\n",
    "Na początek podzielimy zbiór na treningowy i testowy. Naszymi cechami będą zliczenia wystąpień poszczególnych słów, obliczone z pomocą klasy `CountVectorizer` ([dokumentacja](https://scikit-learn.org/stable/modules/generated/sklearn.feature_extraction.text.CountVectorizer.html)). Na start podamy `binary=True`, dzięki czemu cechy będą binarne - czy słowo wystąpiło, czy nie. Dzięki temu będziemy mogli użyć Naiwnego Bayesa z rozkładem dwumianowym - `BernoulliNB`. Wykonamy minimalny preprocessing, usuwając tylko tzw. stop words, czyli \"nudne\", niepotrzebne słowa, typu \"he\", \"she\", \"the\" etc.\n",
    "\n",
    "Zauważ, że wejściem do metody `.fit()` jest lista tekstów, ze względu a domyślne `input=\"content\"`. Można by tu też wskazać listę ścieżek do plików z tekstami (`input=\"filename\"`)."
   ]
  },
  {
   "cell_type": "code",
   "metadata": {
    "scrolled": true,
    "ExecuteTime": {
     "end_time": "2025-04-29T14:06:42.846776Z",
     "start_time": "2025-04-29T14:06:33.156982Z"
    }
   },
   "source": [
    "from sklearn.feature_extraction.text import CountVectorizer\n",
    "from sklearn.metrics import f1_score, precision_score\n",
    "from sklearn.model_selection import train_test_split\n",
    "from sklearn.naive_bayes import BernoulliNB\n",
    "\n",
    "\n",
    "texts_train, texts_test, y_train, y_test = train_test_split(\n",
    "    texts,\n",
    "    y,\n",
    "    test_size=0.25,\n",
    "    random_state=0,\n",
    "    stratify=y,\n",
    ")\n",
    "\n",
    "count_vectorizer = CountVectorizer(\n",
    "    stop_words=\"english\",\n",
    "    binary=True,\n",
    ")\n",
    "count_vectorizer.fit(texts_train)\n",
    "\n",
    "X_train = count_vectorizer.transform(texts_train)\n",
    "X_test = count_vectorizer.transform(texts_test)\n",
    "\n",
    "print(f\"Dictionary size: {X_train.shape[1]}\")\n",
    "\n",
    "clf_nb_bernoulli = BernoulliNB(binarize=None)\n",
    "clf_nb_bernoulli.fit(X_train, y_train)\n",
    "\n",
    "y_pred = clf_nb_bernoulli.predict(X_test)\n",
    "precision = precision_score(y_test, y_pred)\n",
    "f1 = f1_score(y_test, y_pred)\n",
    "\n",
    "print(f\"Precision: {100 * precision:.2f}%\")\n",
    "print(f\"F1-score: {100 * f1:.2f}%\")"
   ],
   "outputs": [
    {
     "name": "stdout",
     "output_type": "stream",
     "text": [
      "Dictionary size: 139189\n",
      "Precision: 98.92%\n",
      "F1-score: 98.46%\n"
     ]
    }
   ],
   "execution_count": 66
  },
  {
   "cell_type": "markdown",
   "metadata": {},
   "source": [
    "Wynik jest prawie doskonały. Może uda się jeszcze wycisnąć ten ostatni procent?\n",
    "\n",
    "**Zadanie 5 (2 punkty)**\n",
    "\n",
    "1. Oblicz wystąpienia słów bez binaryzacji, otrzymując drugi zbiór cech.\n",
    "2. Wytrenuj model multinomial Naive Bayes na otrzymanym zbiorze. Sprawdź precyzję i F1-score na zbiorze testowym.\n",
    "3. Stwórz `Pipeline` z połączenia `CountVectorizer` i `MultinomialNB`. Podaj te opcje, co wcześniej do CountVectorizera.\n",
    "4. Dokonaj tuningu hiperparametrów:\n",
    "   - `ngram_range` - jakie n-gramy rozważać, sprawdź wartości `[(1, 1), (1, 2), (1, 3)]` (same słowa, + bigramy, + bigramy i trigramy)\n",
    "   - `max_df` - w jakim maksymalnie ułamku tekstów w zbiorze może wystąpić słowo, sprawdź wartości `[0.5, 0.6, 0.7, 0.8, 0.9, 1.0]`\n",
    "   - wybierz model o najwyższej precyzji\n",
    "   - użyj standardowych ustawień: 5-krotna walidacja skrośna, `n_jobs=-1`\n",
    "   - sprawdź precyzję i F1-score na zbiorze testowym dla znalezionych optymalnych hiperparametrów\n",
    "5. Wypisz optymalne hiperparametry. Sprawdź, jak zmienił się rozmiar słownika przy tych hiperparametrach.\n",
    "6. Skomentuj uzyskane hiperparametry. Jaki zakres (kontekst) uwzględniamy przy takich n-gramach? Czy uwzględniamy wszystkie słowa/bigramy/trigramy?\n",
    "\n",
    "**Uwaga:**\n",
    "1. Do metody `.fit()` możesz przekazać `texts_train` i `y_train`. Jako że `CountVectorizer` ma interfejs transformera (ma metodę `.transform()`), to Scikit-learn przekształci nim teksty do macierzy `X_train` i to ją przekaże dalej do klasyfikatora.\n",
    "2. Przy tworzeniu pipeline'u może się przydać [ta odpowiedź na StackOverflow](https://stackoverflow.com/a/64258746/9472066).\n",
    "3. Pamiętaj, że do testowania też trzeba przekazać teksty, które przekształcimy w środku pipeline'u."
   ]
  },
  {
   "cell_type": "code",
   "metadata": {
    "ExecuteTime": {
     "end_time": "2025-04-29T14:34:46.336093Z",
     "start_time": "2025-04-29T14:34:36.415215Z"
    }
   },
   "source": [
    "from sklearn.naive_bayes import MultinomialNB\n",
    "\n",
    "count_vectorizer_2 = CountVectorizer(\n",
    "    stop_words=\"english\",\n",
    "    binary=False,\n",
    ")\n",
    "\n",
    "count_vectorizer_2.fit(texts_train)\n",
    "\n",
    "X_train = count_vectorizer_2.transform(texts_train)\n",
    "X_test = count_vectorizer_2.transform(texts_test)\n",
    "\n",
    "print(f\"Dictionary size: {X_train.shape[1]}\")\n",
    "\n",
    "clf_multinomial_nb = MultinomialNB()\n",
    "clf_multinomial_nb.fit(X_train, y_train)\n",
    "\n",
    "y_pred = clf_multinomial_nb.predict(X_test)\n",
    "precision = precision_score(y_test, y_pred)\n",
    "f1 = f1_score(y_test, y_pred)\n",
    "\n",
    "print(f\"Precision: {100 * precision:.2f}%\")\n",
    "print(f\"F1-score: {100 * f1:.2f}%\")"
   ],
   "outputs": [
    {
     "name": "stdout",
     "output_type": "stream",
     "text": [
      "Dictionary size: 139189\n",
      "Precision: 98.54%\n",
      "F1-score: 98.71%\n"
     ]
    }
   ],
   "execution_count": 73
  },
  {
   "metadata": {
    "ExecuteTime": {
     "end_time": "2025-04-29T14:39:44.708622Z",
     "start_time": "2025-04-29T14:34:46.344313Z"
    }
   },
   "cell_type": "code",
   "source": [
    "from sklearn.pipeline import Pipeline\n",
    "from sklearn.model_selection import GridSearchCV\n",
    "\n",
    "pipe = Pipeline(\n",
    "    [\n",
    "        (\n",
    "            \"vect\",\n",
    "            CountVectorizer(\n",
    "                stop_words=\"english\",\n",
    "                binary=False,\n",
    "            ),\n",
    "        ),\n",
    "        (\"multi_nb\", MultinomialNB()),\n",
    "    ]\n",
    ")\n",
    "\n",
    "\n",
    "params = [\n",
    "    {\n",
    "        \"vect__ngram_range\": [(1, 1), (1, 2), (1, 3)],\n",
    "        \"vect__max_df\": [0.5, 0.6, 0.7, 0.8, 0.9, 1.0],\n",
    "    }\n",
    "]\n",
    "\n",
    "grid_search = GridSearchCV(\n",
    "    estimator=pipe,\n",
    "    param_grid=params,\n",
    "    scoring=\"precision\",\n",
    "    cv=5,\n",
    "    n_jobs=-1,\n",
    "    error_score=\"raise\",\n",
    ")\n",
    "\n",
    "grid_search.fit(texts_train, y_train)\n",
    "\n",
    "y_pred = grid_search.predict(texts_test)\n",
    "precision = precision_score(y_test, y_pred)\n",
    "f1 = f1_score(y_test, y_pred)\n",
    "\n",
    "X_train_transformed = grid_search.best_estimator_.named_steps[\"vect\"].transform(\n",
    "    texts_train\n",
    ")\n",
    "print(f\"Dictionary size: {X_train_transformed.shape[1]}\")\n",
    "print(f\"Best params: {grid_search.best_params_}\")\n",
    "\n",
    "print(f\"Precision: {100 * precision:.2f}%\")\n",
    "print(f\"F1-score: {100 * f1:.2f}%\")"
   ],
   "outputs": [
    {
     "name": "stdout",
     "output_type": "stream",
     "text": [
      "Dictionary size: 139189\n",
      "Best params: {'vect__max_df': 0.5, 'vect__ngram_range': (1, 3)}\n",
      "Precision: 99.32%\n",
      "F1-score: 99.24%\n"
     ]
    }
   ],
   "execution_count": 74
  },
  {
   "cell_type": "markdown",
   "metadata": {},
   "source": [
    "// skomentuj tutaj\n",
    "\n",
    "Z otrzymanych hiperparamterów wynika, że rozważamy najaniższy kontekst jak braliśmy pod uwagę.Natomiast uwzględniamy wszytskie słowa."
   ]
  },
  {
   "cell_type": "markdown",
   "metadata": {},
   "source": [
    "W przypadku tak wysokich wyników raczej nie ma sensu sprawdzać bardziej złożonych technik, typu ważenie słów (TF-IDF, BM25), upraszczanie słów (stemming, lematyzacja) etc. W przypadku bardziej złożonych tekstów mogłoby to być przydatne.\n",
    "\n",
    "Naiwnego Bayesa do klasyfikacji tekstu używa się obecnie relatywnie rzadko. Potrafi on jednak działać równie dobrze, jak transformery, kiedy dla danego zadania mają znaczenie same wystąpienia słów czy tematyka tekstu, a nie dokładna semantyka zdań. Naiwny Bayes jest przy tym oczywiście bez porównania prostszy i szybszy."
   ]
  },
  {
   "cell_type": "markdown",
   "metadata": {},
   "source": [
    "## Dane z ekspresji genów"
   ]
  },
  {
   "cell_type": "markdown",
   "metadata": {},
   "source": [
    "Naszym ostatnim zbiorem będzie [GSE14520](https://www.ncbi.nlm.nih.gov/geo/query/acc.cgi?acc=GSE14520), opublikowany przez [SBCB Lab](https://sbcb.inf.ufrgs.br/cumida)). Jest to zbiór ekspresji genów z sekwencjonowania RNA, zebrany na potrzeby artykułu:\n",
    "\n",
    "> Feltes, B.C.; Chandelier, E.B.; Grisci, B.I.; Dorn, M. (2019) *\"CuMiDa: An Extensively Curated Microarray Database for Benchmarking and Testing of Machine Learning Approaches in Cancer Research\"*. Journal of Computational Biology, 26 (4), 376-386. [link](https://sci-hub.se/10.1089/cmb.2018.0238)\n",
    "\n",
    "Dane o ekspresji DNA pozwalają na analizę genetyczną i związku pomiędzy genomem pacjenta a podatnością na choroby. Jest to szczególnie istotne w kontekście nowotworów, gdyż wiele ich typów powstaje przez błędy właśnie w procesie ekspresji genów. Mikromacierze (microarrays) służą do przetwarzania i analizy danych dużej skali w genetyce i dostarczają danych o ogromnej liczbie danych pacjenta. Oczywiście samo gromadzenie próbek, gdzie każdą jest osobny pacjent, jest bardzo drogie. Daje to zbiory danych o bardzo małej liczbie próbek, nawet zaledwie kilkudziesięciu czy kilkuset, a za to dziesiątki tysięcy cech.\n",
    "\n",
    "Zbiór CuMiDa zawiera 78 zbiorów danych, wybranych z bazy GEO (Gene Expression Omnibus) i poddanych preprocessingowi, np. normalizacji danych pomiędzy płytkami pomiarowymi różnych typów. Wynikowe zadania dotyczą klasyfikacji czy detekcji nowotworu na podstawie analizy genomu pacjenta. Cechy w zbiorach danych dotyczą siły ekspresji poszczególnych genów, a konkretnie znormalizowanej wartości - czy gen jest słabiej, czy silniej wykazywany u danej osoby względem grupy kontrolnej. Są one na etapie preprocessingu standaryzowane do z-score (odjęcie średniej, podzielenie przez odchylenie standardowe), co skutkuje danymi o podobnej skali, bardziej zbliżonym rozkładzie, i pozwala porównywać ze sobą dane poszczególnych pacjentów.\n",
    "\n",
    "Użyjemy zbioru GSE 14520, który jest największym z kolekcji CuMiDa i zawiera 357 próbek oraz 22278 genów. Dotyczy klasyfikacji tkanek nowotoworowych (klasa pozytywna) vs zdrowych (klasa negatywna) dla raka wątrobowokomórkowowego wątroby (hepatocellular carcinoma, HCC). Jest to często występujący, a przy tym bardzo złośliwy nowotwór (trzeci najbardziej śmiertelny), będący często skutkiem innych chorób wątroby.\n",
    "\n",
    "Na start wczytamy dane, sprawdzimy rozkład klas, oraz zwizualizujemy rozkłady kilku przykładowych cech."
   ]
  },
  {
   "cell_type": "code",
   "metadata": {
    "ExecuteTime": {
     "end_time": "2025-05-08T20:17:34.509118Z",
     "start_time": "2025-05-08T20:17:30.656744Z"
    }
   },
   "source": [
    "df = pd.read_csv(\"Liver_GSE14520_U133A.csv\")\n",
    "\n",
    "y = df[\"type\"].map({\"normal\": 0, \"HCC\": 1})\n",
    "df = df.drop(columns=[\"samples\", \"type\"])\n",
    "X = df\n",
    "fig, ax = plt.subplots(1, 5, figsize=(12, 2))\n",
    "for i in range(5):\n",
    "    df.hist(column=df.columns[i], ax=ax[i])\n",
    "\n",
    "plt.show()\n",
    "\n",
    "pd.Series(y).value_counts().plot.bar(title=\"Class distribution\", rot=0, figsize=(3, 3))"
   ],
   "outputs": [
    {
     "data": {
      "text/plain": [
       "<Figure size 1200x200 with 5 Axes>"
      ],
      "image/png": "[encoded data removed]"
     },
     "metadata": {},
     "output_type": "display_data"
    },
    {
     "data": {
      "text/plain": [
       "<Axes: title={'center': 'Class distribution'}, xlabel='type'>"
      ]
     },
     "execution_count": 4,
     "metadata": {},
     "output_type": "execute_result"
    },
    {
     "data": {
      "text/plain": [
       "<Figure size 300x300 with 1 Axes>"
      ],
      "image/png": "[encoded data removed]"
     },
     "metadata": {},
     "output_type": "display_data"
    }
   ],
   "execution_count": 4
  },
  {
   "cell_type": "markdown",
   "metadata": {},
   "source": [
    "**Zadanie 6 (1 punkt)**\n",
    "\n",
    "Ze względu na niewielki rozmiar takich zbiorów, walidacji skrośnej używa się **do testowania**. Podział na zbiór treningowy i testowany jest wykonywany na kolejnych foldach. Dla ekstremalnie małych zbiorów można też wykorzystać **Leave-One-Out Cross-Validation (LOOCV)**, gdzie zbiór testowy to jedna próbka naraz. W razie potrzeby tuningu hiperparametrów można też wykonać wewnętrzną walidację skrośną na aktualnym foldzie treningowym - technikę tę nazywamy **nested cross-validation (nested CV)**.\n",
    "\n",
    "1. Dokonaj podziału na zbiór treningowy i testowy z pomocą 3-fold CV (klasa [KFold](https://scikit-learn.org/stable/modules/generated/sklearn.model_selection.KFold.html)), analogicznie do oryginalnego artykułu. Wykorzystaj losową kolejność (`shuffle=True`) oraz stały `random_state=0`.\n",
    "2. Wytrenuj klasyfikator [GaussianNB](https://scikit-learn.org/stable/modules/generated/sklearn.naive_bayes.GaussianNB.html).\n",
    "3. Dokonaj walidacji na zbiorach testowych, wykorzystując celność (accuracy).\n",
    "4. Wypisz wartość średnią (w procentach) celności na danych testowych, oraz odchylenie standardowe, oba zaokrąglone do 2 miejsca po przecinku.\n",
    "5. Zmierz czas dla całości procesu, np. z pomocą modułu `time` lub biblioteki `tqdm`.\n",
    "6. Porównaj wyniki z oficjalnymi podanymi [na stronie SBCB Lab](https://sbcb.inf.ufrgs.br/cumida) dla tego zbioru danych - jak dobrze radzi sobie klasyfikator Naiwnego Bayesa?"
   ]
  },
  {
   "cell_type": "code",
   "metadata": {
    "scrolled": true,
    "ExecuteTime": {
     "end_time": "2025-05-08T20:17:38.294249Z",
     "start_time": "2025-05-08T20:17:37.213237Z"
    }
   },
   "source": [
    "from sklearn.metrics import accuracy_score\n",
    "from sklearn.model_selection import KFold\n",
    "from sklearn.naive_bayes import GaussianNB\n",
    "from time import time\n",
    "\n",
    "# accuracy scores over folds\n",
    "scores = []\n",
    "\n",
    "# splitter object, e.g. KFold\n",
    "custom_gaussian_nb = GaussianNB()\n",
    "kf = KFold(n_splits=3, shuffle=True, random_state=0)\n",
    "\n",
    "\n",
    "start_time = time()\n",
    "# split in loop\n",
    "for train_idxs, test_idxs in kf.split(X):\n",
    "    # use train and text indexes\n",
    "    X_train = X.iloc[train_idxs]\n",
    "    y_train = y.iloc[train_idxs]\n",
    "\n",
    "    X_test = X.iloc[test_idxs]\n",
    "    y_test = y.iloc[test_idxs]\n",
    "    # train, evaluate, append score\n",
    "    custom_gaussian_nb.fit(X_train, y_train)\n",
    "\n",
    "    y_pred = custom_gaussian_nb.predict(X_test)\n",
    "\n",
    "    score = accuracy_score(y_test, y_pred)\n",
    "    scores.append(score)\n",
    "\n",
    "end_time = time()\n",
    "\n",
    "print(f\"Training time: {end_time-start_time:.5f}\")\n",
    "print(f\"Test score mean: {100*np.mean(scores):.2f}%\")\n",
    "print(f\"Test score deviation: {np.std(scores):.2f}\")\n",
    "# calculate mean and standard deviation test score\n",
    "..."
   ],
   "outputs": [
    {
     "name": "stdout",
     "output_type": "stream",
     "text": [
      "Training time: 1.04963\n",
      "Test score mean: 95.80%\n",
      "Test score deviation: 0.01\n"
     ]
    },
    {
     "data": {
      "text/plain": [
       "Ellipsis"
      ]
     },
     "execution_count": 5,
     "metadata": {},
     "output_type": "execute_result"
    }
   ],
   "execution_count": 5
  },
  {
   "cell_type": "markdown",
   "metadata": {},
   "source": [
    "// skomentuj tutaj\n",
    "\n",
    "Otrzymany wynik jest niemal identyczny z oficjalnym, który wynosi 0.96. Należy zauwazyć,iż klasyfikator Naiwnego Bayesa radzi sobie bardzo dobrze."
   ]
  },
  {
   "cell_type": "markdown",
   "metadata": {},
   "source": [
    "Skoro mamy dobrze działający klasyfikator, to warto dobrze zrozumieć, jak działa pod spodem. Jest to też doskonała okazja, żeby nauczyć się, jak tworzyć własne klasyfikatory zgodne z API scikit-learn. Robi się w skrócie to tak ([dokładny tutorial](https://scikit-learn.org/stable/developers/develop.html)):\n",
    "1. Tworzymy klasę dziedziczącą po `BaseEstimator`, `ClassifierMixin` oraz ewentualnie innych klasach, które nas interesują.\n",
    "2. Wszystkie hiperparametry są argumentami konstruktora. Każdy jest przypisywany, bez żadnych zmian, do atrybutu o dokładnie tej samej nazwie.\n",
    "3. Implementujemy metody `.fit(X, y)`,`.predict(X)`, oraz ewentualnie `.predict_proba(X)`.\n",
    "4. Metoda `.fit()` musi zwracać `self`, a estymowane parametry przypisuje jako atrybuty (tworzone w `.fit()`) z underscore na końcu, np. `.weights_`. Często wywołuje się `np.asarray()` na `X` i `y`, żeby upewnić się, że będą to macierze NumPy'a.\n",
    "5. Na początku metody `.fit(X, y)` używamy funkcji `check_X_y()`, żeby dokonać podstawowej walidacji wejścia. Na początku metody `.predict(X)` analogicznie używamy funkcji `check_array()` na wejściu `X`.\n",
    "\n",
    "Taki interfejs gwarantuje, że nasz własny model będzie mógł być używany np. w `GridSearchCV`.\n",
    "\n",
    "**Zadanie 7 (3 punkty)**\n",
    "\n",
    "Uzupełnij implementację własnej klasy `CustomGaussianNB`, która będzie realizować Naiwnego Bayesa dla rozkładu normalnego.\n",
    "\n",
    "1. Zakładamy, że klasy są liczbami całkowitymi, z wartościami `[0, 1, ..., liczba klas - 1]`.\n",
    "2. Rozkład a priori (prior) dla każdej klasy to proporcja tej klasy w zbiorze treningowym. Naive Bayes używa log-sum-exp trick, więc można od razu obliczyć logarytm i zapisać log-prior.\n",
    "3. Gaussian NB zakłada, że każda cecha w obrębie klasy ma rozkład normalny. Opisują go dwa parametry: średnia i wariancja. Będziemy więc mieli `2*K` parametrów dla `K` klas. Trzeba je wyestymować w metodzie `.fit()` i zapisać jako macierze parametrów, np. `.means_` i `.variances_`.\n",
    "4. Do wariancji klas dodaj niewielką stałą, żeby uniknąć problemów numerycznych, np. 1e-9. Scikit-learn nazywa to `var_smoothing`.\n",
    "5. Podczas predykcji trzeba wybrać klasę o najwyższej wiarygodności. Dla każdego z przykładów obliczamy log-likelihood dla każdej klasy, dodajemy log-prior klasy, i w ten sposób otrzymujemy wartość rozkładu a posteriori (posterior). Zgodnie z zasadą maximum a posteriori (MAP), wybieramy klasę o najwyższej z tych wartości.\n",
    "6. Pamiętaj, żeby użyć prawidłowo metod gwarantujących zgodność ze scikit-learn, jak opisano powyżej.\n",
    "7. Przetestuj klasę na przykładzie zbioru użytego w zadaniu 6. Wynik powinien być identyczny z tym ze scikit-learn.\n",
    "\n",
    "Dla uproszczenia, nie będziemy się tutaj zajmować metodą `.predict_proba()`. Jej implementacja to stosunkowo niewielka adaptacja metody `.predict()`."
   ]
  },
  {
   "cell_type": "code",
   "metadata": {
    "ExecuteTime": {
     "end_time": "2025-05-08T20:18:33.881473Z",
     "start_time": "2025-05-08T20:18:33.872144Z"
    }
   },
   "source": [
    "from sklearn.base import BaseEstimator, ClassifierMixin\n",
    "from sklearn.utils import check_array, check_X_y\n",
    "from sklearn.utils.multiclass import unique_labels\n",
    "\n",
    "\n",
    "class CustomGaussianNB(BaseEstimator, ClassifierMixin):\n",
    "    def fit(self, X, y):\n",
    "        # check arrays\n",
    "        X, y = check_X_y(X, y)\n",
    "\n",
    "        # make sure that y has values from 0 to num_classes - 1\n",
    "        ...\n",
    "\n",
    "        # vector of possible classes\n",
    "        self.classes_ = unique_labels(y)\n",
    "\n",
    "        n_classes = len(self.classes_)\n",
    "        n_features = X.shape[1]\n",
    "\n",
    "        # parameters:\n",
    "        # - priors, i.e. proportions of classes in the training set\n",
    "        # - mean of each feature in each class\n",
    "        # - variance of each feature in each class\n",
    "        self.log_priors_ = np.zeros(n_classes)\n",
    "        self.means_ = np.zeros((n_classes, n_features))\n",
    "        self.variances_ = np.zeros((n_classes, n_features))\n",
    "\n",
    "        for idx, class_idx in enumerate(self.classes_):\n",
    "            # select X and y from the current class\n",
    "            X_c = X[y == class_idx]\n",
    "\n",
    "            # calculate log-prior, i.e. logarithm of current class proportion\n",
    "            self.log_priors_[class_idx] = np.log(len(X_c) / len(X))\n",
    "\n",
    "            # calculate means and variances of current class\n",
    "            self.means_[class_idx, :] = X_c.mean(axis=0)\n",
    "            self.variances_[class_idx, :] = X_c.var(axis=0) + 1e-9\n",
    "\n",
    "        return self\n",
    "\n",
    "    def predict(self, X):\n",
    "        X = check_array(X)\n",
    "        preds = [self._single_sample_predict(x) for x in X]\n",
    "        return np.array(preds)\n",
    "\n",
    "    def _single_sample_predict(self, x):\n",
    "        class_scores = np.empty(len(self.classes_))\n",
    "        for idx, class_idx in enumerate(self.classes_):\n",
    "            log_prior = self.log_priors_[class_idx]\n",
    "            log_likelihood = (\n",
    "                -0.5 * np.log(2 * np.pi * self.variances_[idx])\n",
    "                - ((x - self.means_[idx]) ** 2) / (2 * self.variances_[idx])\n",
    "            ).sum()\n",
    "            class_scores[class_idx] = log_likelihood + log_prior\n",
    "\n",
    "        return self.classes_[np.argmax(class_scores)]"
   ],
   "outputs": [],
   "execution_count": 10
  },
  {
   "cell_type": "code",
   "metadata": {
    "scrolled": true,
    "ExecuteTime": {
     "end_time": "2025-05-08T17:50:57.155111Z",
     "start_time": "2025-05-08T17:50:55.974920Z"
    }
   },
   "source": [
    "# test your class# accuracy scores over folds\n",
    "scores = []\n",
    "\n",
    "# splitter object, e.g. KFold\n",
    "custom_gaussian_nb = CustomGaussianNB()\n",
    "kf = KFold(n_splits=3, shuffle=True, random_state=0)\n",
    "\n",
    "\n",
    "start_time = time()\n",
    "# split in loop\n",
    "for train_idxs, test_idxs in kf.split(X):\n",
    "    # use train and text indexes\n",
    "    X_train = X.iloc[train_idxs]\n",
    "    y_train = y.iloc[train_idxs]\n",
    "\n",
    "    X_test = X.iloc[test_idxs]\n",
    "    y_test = y.iloc[test_idxs]\n",
    "    # train, evaluate, append score\n",
    "    custom_gaussian_nb.fit(X_train, y_train)\n",
    "\n",
    "    y_pred = custom_gaussian_nb.predict(X_test)\n",
    "\n",
    "    score = accuracy_score(y_test, y_pred)\n",
    "    scores.append(score)\n",
    "\n",
    "end_time = time()\n",
    "\n",
    "print(f\"Training time: {end_time-start_time:.5f}\")\n",
    "print(f\"Test score mean: {100*np.mean(scores):.2f}%\")\n",
    "print(f\"Test score deviation: {np.std(scores):.2f}\")"
   ],
   "outputs": [
    {
     "name": "stdout",
     "output_type": "stream",
     "text": [
      "Training time: 1.16302\n",
      "Test score mean: 95.80%\n",
      "Test score deviation: 0.01\n"
     ]
    }
   ],
   "execution_count": 9
  },
  {
   "cell_type": "markdown",
   "metadata": {},
   "source": [
    "// skomentuj tutaj\n",
    "\n",
    "Analizując otrzymane wyniki, możemy zauważyć, iż otrzymaliśmy identyczny wynik jak we wcześniejszym ćwiczeniu."
   ]
  },
  {
   "cell_type": "markdown",
   "metadata": {},
   "source": [
    "## Zadanie dodatkowe (3 punkty)\n",
    "\n",
    "Zamiast zakładać konkretny rozkład prawdopodobieństwa dla zmiennych w Naiwnym Bayesie, możemy wprost estymować go z danych treningowych. Takie nieparametryczne podejście z estymacją rozkładu z danych nazywamy kernel density estimation (KDE), a klasyfikator KDE Naive Bayes. Został on opisany na slajdach bonusowych na prezentacji z zajęć.\n",
    "\n",
    "1. Zaimplementuj KDE Naive Bayes. Dla każdej zmiennej wytrenuj instancję [KernelDensity](https://scikit-learn.org/stable/modules/generated/sklearn.neighbors.KernelDensity.html). Podczas predykcji użyj metody `.score_samples()`, która zwróci log-likelihoods próbek. Obliczanie log-prior nie ulega zmianie, jedyna zmiana to sposób obliczania log-likelihoods.\n",
    "2. W metodzie `__init__()` klasa przyjmuje argument `bandwidth` z wartością domyślną 1.0, który będzie parametrem estymatora KDE. Wyznacza on szerokość kernela przy estymacji rozkładu, czyli jego \"gładkość\". Wąskie kernele mają większą wariancję, ale też są bardziej elastyczne.\n",
    "3. Wytrenuj KDE Naive Bayes na wybranych 2-3 zbiorach z kolekcji CuMiDa. Porównaj wyniki z Gaussian NB. Dokonaj tuningu parametru `bandwidth`, zazwyczaj jego zmniejszenie bywa pomocne.\n",
    "4. Skomentuj wyniki.\n"
   ]
  },
  {
   "cell_type": "code",
   "metadata": {},
   "source": [
    "from sklearn.base import BaseEstimator, ClassifierMixin\n",
    "from sklearn.neighbors import KernelDensity\n",
    "from sklearn.utils import check_array, check_X_y\n",
    "\n",
    "\n",
    "class KernelDensityEstimationNB(BaseEstimator, ClassifierMixin):\n",
    "    \"\"\"\n",
    "    Naive Bayes with KDE estimation of feature distributions.\n",
    "\n",
    "    Parameters\n",
    "    ----------\n",
    "    bandwidth : float\n",
    "        Kernel bandwidth\n",
    "    \"\"\"\n",
    "\n",
    "    def __init__(self, bandwidth: float = 1.0):\n",
    "        self.kde_models_ = {}\n",
    "        self.log_priors_ = {}\n",
    "        self.classes_ = None\n",
    "        self.bandwidth = bandwidth\n",
    "\n",
    "    def fit(self, X, y):\n",
    "        X, y = check_X_y(X, y)\n",
    "\n",
    "        # make sure that y has values from 0 to num_classes - 1\n",
    "        ...\n",
    "\n",
    "        # vector of possible classes\n",
    "        self.classes_ = unique_labels(y)\n",
    "        self.log_priors_ = {c: np.log(np.sum(y == c) / len(y)) for c in self.classes_}\n",
    "        self.kde_models_ = {}\n",
    "\n",
    "        for c in self.classes_:\n",
    "            X_c = X[y == c]\n",
    "            self.kde_models_[c] = []\n",
    "            for feature_idx in range(X.shape[1]):\n",
    "                kde = KernelDensity(kernel=\"gaussian\", bandwidth=self.bandwidth)\n",
    "                kde.fit(X_c[:, feature_idx].reshape(-1, 1))\n",
    "                self.kde_models_[c].append(kde)\n",
    "\n",
    "        return self\n",
    "\n",
    "    def predict(self, X):\n",
    "        X = check_array(X)\n",
    "        n_samples, n_features = X.shape\n",
    "        log_probs = np.zeros((n_samples, len(self.classes_)))\n",
    "\n",
    "        for idx, c in enumerate(self.classes_):\n",
    "            total_log_likelihood = np.zeros(n_samples)\n",
    "            for feature_idx in range(n_features):\n",
    "                kde = self.kde_models_[c][feature_idx]\n",
    "                ll = kde.score_samples(X[:, feature_idx].reshape(-1, 1))\n",
    "                total_log_likelihood += ll\n",
    "            log_probs[:, idx] = self.log_priors_[c] + total_log_likelihood\n",
    "\n",
    "        return self.classes_[np.argmax(log_probs, axis=1)]"
   ],
   "outputs": [],
   "execution_count": 8
  },
  {
   "metadata": {
    "ExecuteTime": {
     "end_time": "2025-05-08T18:32:41.601190Z",
     "start_time": "2025-05-08T18:32:39.929960Z"
    }
   },
   "cell_type": "code",
   "source": [
    "df_1 = pd.read_csv(\"Breast_GSE26910.csv\")\n",
    "\n",
    "y_1 = df_1[\"type\"].map({\"normal\": 0, \"tumoral\": 1})\n",
    "df_1 = df_1.drop(columns=[\"samples\", \"type\"])\n",
    "X_1 = df_1"
   ],
   "outputs": [],
   "execution_count": 17
  },
  {
   "metadata": {
    "ExecuteTime": {
     "end_time": "2025-05-08T18:04:15.683448Z",
     "start_time": "2025-05-08T18:01:11.553676Z"
    }
   },
   "cell_type": "code",
   "source": [
    "# test your class# accuracy scores over folds\n",
    "scores = []\n",
    "\n",
    "# splitter object, e.g. KFold\n",
    "\n",
    "kf = KFold(n_splits=3, shuffle=True, random_state=0)\n",
    "\n",
    "kde_nb = KernelDensityEstimationNB()\n",
    "\n",
    "start_time = time()\n",
    "# split in loop\n",
    "for train_idxs, test_idxs in kf.split(X_1):\n",
    "    # use train and text indexes\n",
    "    X_train = X_1.iloc[train_idxs]\n",
    "    y_train = y_1.iloc[train_idxs]\n",
    "\n",
    "    X_test = X_1.iloc[test_idxs]\n",
    "    y_test = y_1.iloc[test_idxs]\n",
    "    # train, evaluate, append score\n",
    "    kde_nb.fit(X_train, y_train)\n",
    "\n",
    "    y_pred = kde_nb.predict(X_test)\n",
    "\n",
    "    score = accuracy_score(y_test, y_pred)\n",
    "    scores.append(score)\n",
    "\n",
    "end_time = time()\n",
    "\n",
    "print(f\"Training time: {end_time-start_time:.5f}\")\n",
    "print(f\"Test score mean: {100*np.mean(scores):.2f}%\")\n",
    "print(f\"Test score deviation: {np.std(scores):.2f}\")"
   ],
   "outputs": [
    {
     "name": "stdout",
     "output_type": "stream",
     "text": [
      "Training time: 182.92873\n",
      "Test score mean: 91.67%\n",
      "Test score deviation: 0.12\n"
     ]
    }
   ],
   "execution_count": 14
  },
  {
   "metadata": {},
   "cell_type": "markdown",
   "source": "Możemy zauważyć, iż udało się uzyskać wynik lepszy o około 8 p.p względem oficjalnych wyników dla Gaussian NB."
  },
  {
   "metadata": {
    "ExecuteTime": {
     "end_time": "2025-05-08T20:16:20.840283Z",
     "start_time": "2025-05-08T20:16:19.672188Z"
    }
   },
   "cell_type": "code",
   "source": [
    "df_2 = pd.read_csv(\"Prostate_GSE26910.csv\")\n",
    "y_2 = df_2[\"type\"].map({\"normal\": 0, \"tumoral\": 1})\n",
    "df_2 = df_2.drop(columns=[\"samples\", \"type\"])\n",
    "X_2 = df_2"
   ],
   "outputs": [],
   "execution_count": 2
  },
  {
   "metadata": {
    "ExecuteTime": {
     "end_time": "2025-05-08T17:59:33.838466Z",
     "start_time": "2025-05-08T17:56:48.432731Z"
    }
   },
   "cell_type": "code",
   "source": [
    "# test your class# accuracy scores over folds\n",
    "scores = []\n",
    "\n",
    "# splitter object, e.g. KFold\n",
    "\n",
    "kf = KFold(n_splits=3, shuffle=True, random_state=0)\n",
    "\n",
    "kde_nb = KernelDensityEstimationNB()\n",
    "\n",
    "start_time = time()\n",
    "# split in loop\n",
    "for train_idxs, test_idxs in kf.split(X_2):\n",
    "    # use train and text indexes\n",
    "    X_train = X_2.iloc[train_idxs]\n",
    "    y_train = y_2.iloc[train_idxs]\n",
    "\n",
    "    X_test = X_2.iloc[test_idxs]\n",
    "    y_test = y_2.iloc[test_idxs]\n",
    "    # train, evaluate, append score\n",
    "    kde_nb.fit(X_train, y_train)\n",
    "\n",
    "    y_pred = kde_nb.predict(X_test)\n",
    "\n",
    "    score = accuracy_score(y_test, y_pred)\n",
    "    scores.append(score)\n",
    "\n",
    "end_time = time()\n",
    "\n",
    "print(f\"Training time: {end_time-start_time:.5f}\")\n",
    "print(f\"Test score mean: {100*np.mean(scores):.2f}%\")\n",
    "print(f\"Test score deviation: {np.std(scores):.2f}\")"
   ],
   "outputs": [
    {
     "name": "stdout",
     "output_type": "stream",
     "text": [
      "Training time: 164.23729\n",
      "Test score mean: 83.33%\n",
      "Test score deviation: 0.24\n"
     ]
    }
   ],
   "execution_count": 13
  },
  {
   "metadata": {},
   "cell_type": "markdown",
   "source": "Jak widać udało się uzyskać wynik lepszy o około 16 p.p względem oficjalnych wyników dla Gaussian NB."
  },
  {
   "metadata": {
    "ExecuteTime": {
     "end_time": "2025-05-08T19:13:15.159595Z",
     "start_time": "2025-05-08T19:01:13.199191Z"
    }
   },
   "cell_type": "code",
   "source": [
    "from sklearn.model_selection import GridSearchCV\n",
    "\n",
    "cv = KFold(n_splits=3, shuffle=True, random_state=0)\n",
    "param_grid = {\"bandwidth\": [0.1, 0.5, 1.0, 2.0]}\n",
    "grid = GridSearchCV(KernelDensityEstimationNB(), param_grid, scoring=\"accuracy\", cv=cv)\n",
    "\n",
    "\n",
    "start_time = time()\n",
    "grid.fit(X_1, y_1)\n",
    "end_time = time()\n",
    "\n",
    "print(f\"Training time: {end_time-start_time:.5f}\")\n",
    "print(f\"Best bandwidth: {grid.best_params_['bandwidth']}\")\n",
    "print(f\"CV mean accuracy: {100 * grid.best_score_:.2f}%\")\n",
    "print(\n",
    "    f\"CV std deviation: {100 * grid.cv_results_['std_test_score'][grid.best_index_]:.2f}%\"\n",
    ")"
   ],
   "outputs": [
    {
     "name": "stdout",
     "output_type": "stream",
     "text": [
      "Training time: 721.60749\n",
      "Best bandwidth: 0.5\n",
      "CV mean accuracy: 91.67%\n",
      "CV std deviation: 11.79%\n"
     ]
    }
   ],
   "execution_count": 21
  },
  {
   "metadata": {
    "ExecuteTime": {
     "end_time": "2025-05-08T20:29:13.615030Z",
     "start_time": "2025-05-08T20:18:43.105735Z"
    }
   },
   "cell_type": "code",
   "source": [
    "from sklearn.model_selection import GridSearchCV\n",
    "\n",
    "cv = KFold(n_splits=3, shuffle=True, random_state=0)\n",
    "param_grid = {\"bandwidth\": [0.1, 0.5, 1.0, 2.0]}\n",
    "grid = GridSearchCV(KernelDensityEstimationNB(), param_grid, scoring=\"accuracy\", cv=cv)\n",
    "\n",
    "\n",
    "start_time = time()\n",
    "grid.fit(X_2, y_2)\n",
    "end_time = time()\n",
    "\n",
    "print(f\"Training time: {end_time-start_time:.5f}\")\n",
    "print(f\"Best bandwidth: {grid.best_params_['bandwidth']}\")\n",
    "print(f\"CV mean accuracy: {100 * grid.best_score_:.2f}%\")\n",
    "print(\n",
    "    f\"CV std deviation: {100 * grid.cv_results_['std_test_score'][grid.best_index_]:.2f}%\"\n",
    ")"
   ],
   "outputs": [
    {
     "name": "stdout",
     "output_type": "stream",
     "text": [
      "Training time: 630.50130\n",
      "Best bandwidth: 0.5\n",
      "CV mean accuracy: 83.33%\n",
      "CV std deviation: 11.79%\n"
     ]
    }
   ],
   "execution_count": 11
  },
  {
   "metadata": {},
   "cell_type": "markdown",
   "source": "Analizując, powyższe wyniki widzimy, że dla obu zbiorów widzimy,że jako opytmalną wartość bandwidth została wybrana wartosć 0.5,jednakże uzyskaliśmy identyczne wyniki jak bez dla modelu bez tuningu hyperparametrów."
  }
 ],
 "metadata": {
  "kernelspec": {
   "display_name": "Python 3 (ipykernel)",
   "language": "python",
   "name": "python3"
  },
  "language_info": {
   "codemirror_mode": {
    "name": "ipython",
    "version": 3
   },
   "file_extension": ".py",
   "mimetype": "text/x-python",
   "name": "python",
   "nbconvert_exporter": "python",
   "pygments_lexer": "ipython3",
   "version": "3.11.12"
  }
 },
 "nbformat": 4,
 "nbformat_minor": 4
}
